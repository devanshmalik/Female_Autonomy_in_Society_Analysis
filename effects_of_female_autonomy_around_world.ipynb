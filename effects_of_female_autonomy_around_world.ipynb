{
 "cells": [
  {
   "cell_type": "markdown",
   "metadata": {},
   "source": [
    "# Investigating Effect of Female Literacy and Autonomy in Society on Child Mortality Rates\n",
    "\n",
    "## Table of Contents\n",
    "<ul>\n",
    "<li><a href=\"#intro\">Introduction</a></li>\n",
    "<li><a href=\"#questions\">Research Questions</a></li>\n",
    "<li><a href=\"#wrangling\">Data Wrangling</a></li>\n",
    "<li><a href=\"#eda\">Exploratory Data Analysis</a></li>\n",
    "<li><a href=\"#conclusions\">Conclusions</a></li>\n",
    "</ul>"
   ]
  },
  {
   "cell_type": "markdown",
   "metadata": {},
   "source": [
    "<a id='intro'></a>\n",
    "## Introduction\n",
    "\n",
    "> **Tip**: In this section of the report, provide a brief introduction to the dataset you've selected for analysis. At the end of this section, describe the questions that you plan on exploring over the course of the report. Try to build your report around the analysis of at least one dependent variable and three independent variables.\n",
    ">\n",
    "> If you haven't yet selected and downloaded your data, make sure you do that first before coming back here. If you're not sure what questions to ask right now, then make sure you familiarize yourself with the variables and the dataset context for ideas of what to explore."
   ]
  },
  {
   "cell_type": "markdown",
   "metadata": {},
   "source": [
    "## Dataset\n",
    "**Source**: [Gapminder](https://www.gapminder.org/data/) has collected a lot of information about how people live their lives in different countries, tracked across the years, and on a number of different indicators. From their list of 500+ indicators, the following indicators related to women literacy and engagement in society peeked my interest:\n",
    "\n",
    "1. Literacy rate, adult female (% of females ages 15 and above)\n",
    "    * Adult literacy rate is the percentage of people ages 15 and above who can, with understanding, read and write a short, simple statement on their everyday life\n",
    "2. Mean years in school (women of reproductive age, 15 to 44)\n",
    "    * The average number of years of school attended by all people in the age and gender group specified, including primary, secondary and tertiary education. \n",
    "3. Mean age at 1st marriage of women\n",
    "    * The average age, in years, of first marriage for women. Women who never married are excluded. Cohabitation is excluded\n",
    "4. Age 15-64 Female Labor to population (%)\n",
    "    * For age group 15-64, percentage of female labor to total female population.\n",
    "5. Under-Five Mortality rate (per 1,000 live births)\n",
    "    * The probability that children born in a specific year will die before reaching the age of five, if the age-specific mortality rates remain the same."
   ]
  },
  {
   "cell_type": "markdown",
   "metadata": {},
   "source": [
    "## Background\n",
    "Since Gapminder has data on more than 500 indicators ranging in economy, population, health, etc. it is crucial to have a topic of interest prior to choosing indicators. \n",
    "\n",
    "I was interested in looking at factors related to females, specifically indicators related to women literacy, autonomy and engagement in society. \n",
    "\n",
    "### Factors\n",
    "The main independent factors explored are adult female literacy rate and mean years in school. The effect of women literacy on mean age at first marriage is explored along with the cumulative effect of all these factors on female labor participation in the economy. \n",
    "\n",
    "The final factor explored in Child Mortality Rate and whether women's rights and autonomy are correlated to the mortality rate in a society."
   ]
  },
  {
   "cell_type": "markdown",
   "metadata": {},
   "source": [
    "<a id='questions'></a>\n",
    "## Research Questions \n",
    "The aim of this analysis was to research the following questions:\n",
    "1. Have certain regions of the world been growing in selected metrics better than others?\n",
    "2. Is female literacy in a country related to the mean age of females at first marriage? \n",
    "3. What factors affect the female labor participation in society, specifically, to what extent does female literacy and age at marriage impact female engagement in labor force? \n",
    "4. Do factors related to female literacy and autonomy in a society have an effect on the child mortality rate in a country? "
   ]
  },
  {
   "cell_type": "markdown",
   "metadata": {},
   "source": [
    "<a id='wrangling'></a>\n",
    "# Data Wrangling\n",
    "\n",
    "> **Tip**: In this section of the report, you will load in the data, check for cleanliness, and then trim and clean your dataset for analysis. Make sure that you document your steps carefully and justify your cleaning decisions.\n",
    "\n",
    "Since the data source for each indicator is different, the countries and years measured vary for each dataset. In order to perform comparative analysis between indicators, substantial data wrangling is required to match countries studied for each indicator and the years measured. "
   ]
  },
  {
   "cell_type": "markdown",
   "metadata": {},
   "source": [
    "## General Properties \n",
    "General exploration of structure of each dataset to determine required steps for cleanup "
   ]
  },
  {
   "cell_type": "code",
   "execution_count": null,
   "metadata": {},
   "outputs": [],
   "source": [
    "import pandas as pd\n",
    "import numpy as np\n",
    "% matplotlib inline"
   ]
  },
  {
   "cell_type": "markdown",
   "metadata": {},
   "source": [
    "### 1. Mean School Years "
   ]
  },
  {
   "cell_type": "code",
   "execution_count": null,
   "metadata": {},
   "outputs": [],
   "source": [
    "df_school = pd.read_csv('data/mean_years_school_women.csv')\n",
    "df_school.info()\n",
    "df_school.head()"
   ]
  },
  {
   "cell_type": "markdown",
   "metadata": {},
   "source": [
    "**Observations:**\n",
    "* Data present for 175 countries for years 1970 - 2009 \n",
    "* All years contain 175 non-null entries with no missing data for any country for any year\n",
    "\n",
    "**Next Steps:**\n",
    "* Extract revelant years data for analysis (determined later)  "
   ]
  },
  {
   "cell_type": "markdown",
   "metadata": {},
   "source": [
    "### 2. Mean Age at Marriage "
   ]
  },
  {
   "cell_type": "code",
   "execution_count": null,
   "metadata": {},
   "outputs": [],
   "source": [
    "df_marriage = pd.read_csv('data/marriage_age_females.csv')\n",
    "df_marriage.info()\n",
    "df_marriage.head()\n",
    "df_marriage.count()\n",
    "# Marriage Age Females\n",
    "# Horrible data, no complete years. only 2005 has full data"
   ]
  },
  {
   "cell_type": "markdown",
   "metadata": {},
   "source": [
    "**Observations:**\n",
    "* Data present for 185 countries for years starting at year 1616 to 2005\n",
    "* No year contains data for all 185 countries with year 2005 containing highest number of non-null entries (175)\n",
    "\n",
    "**Next Steps:**\n",
    "* Due to extreme amount of missing data for most years, all data except for year 2005 will be dropped. \n",
    "* Final dataset will contain mean age of first marriage for year 2005 for 175 countries "
   ]
  },
  {
   "cell_type": "markdown",
   "metadata": {},
   "source": [
    "### 3. Female Labor Participation"
   ]
  },
  {
   "cell_type": "code",
   "execution_count": null,
   "metadata": {},
   "outputs": [],
   "source": [
    "df_labor = pd.read_csv('data/female_labour_participation_rate.csv')\n",
    "df_labor.info()\n",
    "df_labor.head()\n",
    "# Clean data with no missing values"
   ]
  },
  {
   "cell_type": "markdown",
   "metadata": {},
   "source": [
    "**Observations:**\n",
    "* Data present for 189 countries for years 1980 - 2007 \n",
    "* All years contain 175 non-null entries with no missing data for any country for any year\n",
    "\n",
    "**Next Steps:**\n",
    "* Extract revelant years data for analysis (determined later)  "
   ]
  },
  {
   "cell_type": "markdown",
   "metadata": {},
   "source": [
    "### 4. Child Mortality Rates"
   ]
  },
  {
   "cell_type": "code",
   "execution_count": null,
   "metadata": {},
   "outputs": [],
   "source": [
    "df_cmr = pd.read_csv('data/mortality_rates_under5.csv')\n",
    "df_cmr.info()\n",
    "df_cmr.head()\n",
    "# Good data in later years "
   ]
  },
  {
   "cell_type": "markdown",
   "metadata": {},
   "source": [
    "**Observations:**\n",
    "* Data present for 260 countries for years starting at year 1931 to 2011\n",
    "* Missing data for years upto 1989. Highest number of non-null entries (195) present for years 1990-2011 \n",
    "\n",
    "**Next Steps:**\n",
    "* Columns upto year 1989 will be dropped due to extreme amount of missing data   \n",
    "* Remove countries with no data present (260-195 = 65 countries) \n",
    "* Final dataset will contain child mortality rates for year 1990-2011 for 195 countries "
   ]
  },
  {
   "cell_type": "markdown",
   "metadata": {},
   "source": [
    "### 5. Female Literacy Rate "
   ]
  },
  {
   "cell_type": "code",
   "execution_count": null,
   "metadata": {},
   "outputs": [],
   "source": [
    "df_literacy = pd.read_csv('data/female_literacy_rate.csv')\n",
    "df_literacy.info()\n",
    "df_literacy.head()\n",
    "# Lots of missing values, substantial cleaning required "
   ]
  },
  {
   "cell_type": "markdown",
   "metadata": {},
   "source": [
    "**Observations:**\n",
    "* Female literacy rate has data for 260 countries for years 1975 - 2011\n",
    "* No year contains data for all 260 countries with year 2011 containing highest number of non-null entries(83)\n",
    "\n",
    "**Next Steps:**\n",
    "* Due to extreme amounts of missing data for all years, female literacy rate will be dropped from the analysis\n",
    "* As a substitute to gauge women literacy, mean years in school for females will be used which has complete data for 175 countries from 1970 - 2009"
   ]
  },
  {
   "cell_type": "markdown",
   "metadata": {},
   "source": [
    "> **Tip**: You should _not_ perform too many operations in each cell. Create cells freely to explore your data. One option that you can take with this project is to do a lot of explorations in an initial notebook. These don't have to be organized, but make sure you use enough comments to understand the purpose of each code cell. Then, after you're done with your analysis, create a duplicate notebook where you will trim the excess and organize your steps so that you have a flowing, cohesive report.\n",
    "\n",
    "> **Tip**: Make sure that you keep your reader informed on the steps that you are taking in your investigation. Follow every code cell, or every set of related code cells, with a markdown cell to describe to the reader what was found in the preceding cell(s). Try to make it so that the reader can then understand what they will be seeing in the following cell(s).\n",
    "\n",
    "## Data Cleaning "
   ]
  },
  {
   "cell_type": "markdown",
   "metadata": {},
   "source": [
    "### 1. Mean School Years \n",
    "Data for mean school years for females is already complete requiring minimal cleaning "
   ]
  },
  {
   "cell_type": "code",
   "execution_count": null,
   "metadata": {},
   "outputs": [],
   "source": [
    "df_school.info()"
   ]
  },
  {
   "cell_type": "code",
   "execution_count": null,
   "metadata": {},
   "outputs": [],
   "source": [
    "# Raname first column to 'Country'\n",
    "df_school.rename(columns={df_school.columns[0]: 'Country'}, inplace=True)"
   ]
  },
  {
   "cell_type": "code",
   "execution_count": null,
   "metadata": {},
   "outputs": [],
   "source": [
    "#plt.bar(locations, heights, tick_label=labels)\n",
    "#plt.title('Average Quality Rating by pH Levels')\n",
    "#plt.xlabel('pH Levels')\n",
    "#plt.ylabel('Average Quality Rating')"
   ]
  },
  {
   "cell_type": "markdown",
   "metadata": {},
   "source": [
    "### 2. Mean Age at Marriage\n",
    "**Todo:** Due to extreme amount of missing data for most years, drop all years except 2005 "
   ]
  },
  {
   "cell_type": "code",
   "execution_count": null,
   "metadata": {},
   "outputs": [],
   "source": [
    "df_marriage.head()"
   ]
  },
  {
   "cell_type": "code",
   "execution_count": null,
   "metadata": {},
   "outputs": [],
   "source": [
    "# Rename first column to 'Country'\n",
    "df_marriage.rename(columns={df_marriage.columns[0]: 'Country'}, inplace=True)\n",
    "df_marriage.head()"
   ]
  },
  {
   "cell_type": "code",
   "execution_count": null,
   "metadata": {},
   "outputs": [],
   "source": [
    "# Drop all columns except 'Country' and '2005'\n",
    "df_marriage = df_marriage.loc[:, ['Country', '2005']]\n",
    "df_marriage.info()"
   ]
  },
  {
   "cell_type": "markdown",
   "metadata": {},
   "source": [
    "The new marriage age dataframe only contains data for year 2005, however, it still contains null values for many countries which must be dropped"
   ]
  },
  {
   "cell_type": "code",
   "execution_count": null,
   "metadata": {},
   "outputs": [],
   "source": [
    "# Drop null values in year 2005\n",
    "df_marriage.dropna(inplace=True)\n",
    "df_marriage.info()"
   ]
  },
  {
   "cell_type": "markdown",
   "metadata": {},
   "source": [
    "### 3. Female Labour Participation\n",
    "Data for female labour participation is already complete requiring minimal cleaning "
   ]
  },
  {
   "cell_type": "code",
   "execution_count": null,
   "metadata": {},
   "outputs": [],
   "source": [
    "df_labor.info()"
   ]
  },
  {
   "cell_type": "code",
   "execution_count": null,
   "metadata": {},
   "outputs": [],
   "source": [
    "# Raname first column to 'Country'\n",
    "df_labor.rename(columns={df_labor.columns[0]: 'Country'}, inplace=True)\n",
    "df_labor.head()"
   ]
  },
  {
   "cell_type": "code",
   "execution_count": null,
   "metadata": {},
   "outputs": [],
   "source": [
    "# Create new column of difference in labor participation between 2007 and 1980\n",
    "df_labor['Diff'] = df_labor[\"2007\"] - df_labor[\"1980\"]\n",
    "df_labor.head()"
   ]
  },
  {
   "cell_type": "markdown",
   "metadata": {},
   "source": [
    "### 4. Child Mortality Rates\n",
    "**Todo:** \n",
    "* Due to extreme amount of missing data in early years, drop all years upto and including 1989\n",
    "* Clean up column names and drop any null values for years 1990-2011"
   ]
  },
  {
   "cell_type": "code",
   "execution_count": null,
   "metadata": {},
   "outputs": [],
   "source": [
    "df_cmr.head()"
   ]
  },
  {
   "cell_type": "markdown",
   "metadata": {},
   "source": [
    "To keep columns for years 1990-2011, need to find column index of year '1990'"
   ]
  },
  {
   "cell_type": "code",
   "execution_count": null,
   "metadata": {},
   "outputs": [],
   "source": [
    "# Find column index of 1990 \n",
    "index_1990 = df_cmr.columns.get_loc('1990')\n",
    "index_1990"
   ]
  },
  {
   "cell_type": "code",
   "execution_count": null,
   "metadata": {},
   "outputs": [],
   "source": [
    "# Drop all columns except 'Country' and 1990-2011\n",
    "df_cmr.drop(df_cmr.iloc[:, 1:60], inplace=True, axis=1)"
   ]
  },
  {
   "cell_type": "code",
   "execution_count": null,
   "metadata": {},
   "outputs": [],
   "source": [
    "# Rename first column to 'Country'\n",
    "df_cmr.rename(columns={df_cmr.columns[0]: 'Country'}, inplace=True)\n",
    "df_cmr.info()"
   ]
  },
  {
   "cell_type": "markdown",
   "metadata": {},
   "source": [
    "The new Child Mortality Rate dataframe only contains data for years of interest, however, it still contains null values for many countries which must be dropped"
   ]
  },
  {
   "cell_type": "code",
   "execution_count": null,
   "metadata": {},
   "outputs": [],
   "source": [
    "# Drop null values for all remaining years \n",
    "df_cmr.dropna(inplace=True)\n",
    "df_cmr.info()"
   ]
  },
  {
   "cell_type": "markdown",
   "metadata": {},
   "source": [
    "## Cleaned Datasets\n",
    "1. **Mean Years in School**: Data for 175 countries for years 1970-2009\n",
    "2. **Mean Age at Marriage**: Data for 175 countries for year 2005\n",
    "3. **Female Labour Participation**: Data for 189 countries for years 1980-2007\n",
    "4. **Child Mortality Rates**: Data for 195 countries for years 1990-2011\n",
    "\n",
    "The above datasets are sufficient to perform analysis on individual indicators and compare how certain countries have grown in specific factors compared to other regions in world. However, to perform comparative analysis between indicators, further manipulation is required by creating a new dataframe for every year of interest. \n",
    "\n",
    "**Merged Dataset 1**: All four cleaned datasets will be joined for year 2005 which has complete data for each indicator. \n",
    "\n",
    "**Merged Dataset 2**: All datasets except mean age at marriage will be joined for year 1990 which has complete data for the remainings indicators\n",
    "\n",
    "**The purpose behind creating two merged datasets is to perform comparative analysis for two different years (1990 and 2005) which allows for deeper insights than checking correlations between indicators for only one year**"
   ]
  },
  {
   "cell_type": "markdown",
   "metadata": {},
   "source": [
    "\n",
    "\n",
    "\n"
   ]
  },
  {
   "cell_type": "markdown",
   "metadata": {},
   "source": [
    "\n"
   ]
  },
  {
   "cell_type": "markdown",
   "metadata": {},
   "source": [
    "### Year 2005 Merged  \n",
    "Combined dataset for year 2005"
   ]
  },
  {
   "cell_type": "code",
   "execution_count": null,
   "metadata": {},
   "outputs": [],
   "source": [
    "# Merged Dataset 1: Using reduce to merge multiple dataframes\n",
    "from functools import reduce\n",
    "join_cols = [\"Country\", \"2005\"]\n",
    "dfs = [df_school.loc[:, join_cols], df_marriage.loc[:, join_cols], \n",
    "            df_labor.loc[:, join_cols], df_cmr.loc[:, join_cols]]\n",
    "\n",
    "# Merge\n",
    "df_2005 = reduce(lambda left,right: pd.merge(left,right,on='Country'), dfs)\n",
    "df_2005.head()"
   ]
  },
  {
   "cell_type": "code",
   "execution_count": null,
   "metadata": {},
   "outputs": [],
   "source": [
    "# Rename columns \n",
    "col_names = [\"Country\", \"school_years\", \"marriage_age\", \"labor_participation\", \"child_mortality\"]\n",
    "df_2005.columns = col_names\n",
    "df_2005.head()"
   ]
  },
  {
   "cell_type": "markdown",
   "metadata": {},
   "source": [
    "\n"
   ]
  },
  {
   "cell_type": "markdown",
   "metadata": {},
   "source": [
    "### Year 1990 Merged  \n",
    "Combined dataset for year 1990 for all indicators excluding mean age at marriage"
   ]
  },
  {
   "cell_type": "code",
   "execution_count": null,
   "metadata": {},
   "outputs": [],
   "source": [
    "# Merged Dataset 1: Using reduce to merge multiple dataframes\n",
    "from functools import reduce\n",
    "join_cols = [\"Country\", \"1990\"]\n",
    "dfs = [df_school.loc[:, join_cols], df_labor.loc[:, join_cols], df_cmr.loc[:, join_cols]]\n",
    "\n",
    "# Merge\n",
    "df_1990 = reduce(lambda left,right: pd.merge(left,right,on='Country'), dfs)\n",
    "df_1990.head()"
   ]
  },
  {
   "cell_type": "code",
   "execution_count": null,
   "metadata": {},
   "outputs": [],
   "source": [
    "# Rename columns \n",
    "col_names = [\"Country\", \"school_years\", \"labor_participation\", \"child_mortality\"]\n",
    "df_1990.columns = col_names\n",
    "df_1990.head()"
   ]
  },
  {
   "cell_type": "markdown",
   "metadata": {},
   "source": [
    "\n"
   ]
  },
  {
   "cell_type": "markdown",
   "metadata": {},
   "source": [
    "<a id='eda'></a>\n",
    "# Exploratory Data Analysis\n",
    "\n",
    "With completed data wrangling \n",
    "> **Tip**: Now that you've trimmed and cleaned your data, you're ready to move on to exploration. Compute statistics and create visualizations with the goal of addressing the research questions that you posed in the Introduction section. It is recommended that you be systematic with your approach. Look at one variable at a time, and then follow it up by looking at relationships between variables.\n",
    "\n",
    "## 1. Individual Indicator Analysis\n",
    "This analysis focuses on first <a href=\"#questions\">Research Question</a> which compares how female literacy has changed in different regions around world."
   ]
  },
  {
   "cell_type": "markdown",
   "metadata": {},
   "source": [
    "### Mean Years in School \n",
    "We're looking at the following trends over time: \n",
    "1. Top 4 countries with highest education in 1970\n",
    "2. Top 4 countries with lowest education in 1970\n",
    "3. Difference in education levels between 2009 and 1970 \n",
    "\n",
    "Currently, data for each year is a separate column. To make further analysis easier, we're going to combine data for all years under one column \"Year\". This can be easily done using pandas `melt` function. "
   ]
  },
  {
   "cell_type": "code",
   "execution_count": null,
   "metadata": {},
   "outputs": [],
   "source": [
    "# Melt df_school \n",
    "melted_school = pd.melt(df_school, id_vars=[\"Country\"], \n",
    "                 var_name=\"Year\", value_name=\"MeanYearsInSchool\")\n",
    "melted_school.head()"
   ]
  },
  {
   "cell_type": "markdown",
   "metadata": {},
   "source": [
    "### Top 5 Countries in 1970\n",
    "First, we're looking at how the education levels have changed over time in countries with the highest education in 1970.\n",
    "\n",
    "To observe trends for each country, group the data by `Country` and plot each series"
   ]
  },
  {
   "cell_type": "code",
   "execution_count": null,
   "metadata": {},
   "outputs": [],
   "source": [
    "# Extract top 5 countries with highest education levels in 1970\n",
    "highestEdu = melted_school.query(\"Year == '1970'\").nlargest(4,'MeanYearsInSchool')\n",
    "\n",
    "# Extract all rows where country is one of top 5 countries\n",
    "highEdu_df = melted_school.loc[melted_school['Country'].isin(highestEdu['Country'])]\n",
    "\n",
    "# Group data\n",
    "groups = highEdu_df.groupby('Country')"
   ]
  },
  {
   "cell_type": "markdown",
   "metadata": {},
   "source": [
    "United States had the highest education for females in 1970 but the rate of increase has been considerably slower since then. Increasing costs of higher education is a potential factor in the slow increase. An interesting question to explore for readers would be to explore the relationship between tuition costs and years in school. \n",
    "\n",
    "However, female education in Canada has increased at a much greater pace with females having about one more mean year of education compared to United States. \n",
    "\n",
    "Australia and Czech Republic have both seen a greater increase than United States. "
   ]
  },
  {
   "cell_type": "code",
   "execution_count": null,
   "metadata": {},
   "outputs": [],
   "source": [
    "import matplotlib.pyplot as plt\n",
    "import seaborn as sns \n",
    "\n",
    "fig, ax = plt.subplots()\n",
    "# Plot each country group\n",
    "for name, group in groups:\n",
    "    group.plot(x='Year', y='MeanYearsInSchool', ax=ax, label=name, figsize=(9,7))\n",
    "\n",
    "# Limit tick labels to 10 \n",
    "plt.locator_params(axis='x', nbins=10)\n",
    "ax.xaxis.set(ticklabels=np.arange(1965, 2010, 5))\n",
    "\n",
    "ax.legend()\n",
    "plt.title('Female Literacy for Countries with Highest Education Levels in 1970')\n",
    "plt.ylabel('Mean Years in School')"
   ]
  },
  {
   "cell_type": "markdown",
   "metadata": {},
   "source": [
    "### Bottom 5 Countries in 1970\n",
    "Similarly, we're looking at how the education levels have changed over time in countries with the lowest education in 1970."
   ]
  },
  {
   "cell_type": "code",
   "execution_count": null,
   "metadata": {},
   "outputs": [],
   "source": [
    "# Extract bottom 5 countries with highest education levels in 1970\n",
    "lowestEdu = melted_school.query(\"Year == '1970'\").nsmallest(4,'MeanYearsInSchool')\n",
    "\n",
    "# Extract all rows where country is one of bottom 5 countries\n",
    "lowestEdu_df = melted_school.loc[melted_school['Country'].isin(lowestEdu['Country'])]\n",
    "\n",
    "# Group data\n",
    "groups = lowestEdu_df.groupby('Country')"
   ]
  },
  {
   "cell_type": "markdown",
   "metadata": {},
   "source": [
    "The increases in all bottom countries insignificant in terms of absolute increase in number of years. Afghanistan had the greatest increase of about 1.5 years over four decades. Even though the increase is a promising sign, more efforts must be made to observe more significant changes. \n",
    "\n",
    "The next analysis looks closer at countries that have had the highest or lowest changes in education of females. "
   ]
  },
  {
   "cell_type": "code",
   "execution_count": null,
   "metadata": {},
   "outputs": [],
   "source": [
    "import matplotlib.pyplot as plt\n",
    "import seaborn as sns \n",
    "\n",
    "fig, ax = plt.subplots()\n",
    "# Plot each country group\n",
    "for name, group in groups:\n",
    "    group.plot(x='Year', y='MeanYearsInSchool', ax=ax, label=name, figsize=(9,7))\n",
    "\n",
    "# Limit tick labels to 10 \n",
    "plt.locator_params(axis='x', nbins=10)\n",
    "ax.xaxis.set(ticklabels=np.arange(1965, 2010, 5))\n",
    "\n",
    "ax.legend()\n",
    "plt.title('Female Literacy for Countries with Lowest Education Levels in 1970')\n",
    "plt.ylabel('Mean Years in School')"
   ]
  },
  {
   "cell_type": "markdown",
   "metadata": {},
   "source": [
    "The increases in all bottom countries insignificant in terms of absolute increase in number of years. Yemen had the greatest increase of about 1.5 years over four decades. Even though the increase is a promising sign, more efforts must be made to observe more significant changes. \n",
    "\n",
    "The next analysis looks closer at countries that have had the highest or lowest changes in education of females. "
   ]
  },
  {
   "cell_type": "markdown",
   "metadata": {},
   "source": [
    "### Differences in Education from 1970 to 2009\n",
    "The next analysis compares changes in mean years of schooling over time. A violin plot was purposely chosen over a box plotis observe the distribution of changes in schooling years around the world. This is because a violin plot highlights specific densities in data that deserve more attention compared to a boxplot that can sometimes hide features of the data.\n",
    "\n",
    "Overall, the level of female education has increased by a mean of about 5 years. More importantly, the lower quartile which is the 25th percentile is approximately 4 years implying most countries around the world have better provisions for female literacy in 2009 than they did in 1970. "
   ]
  },
  {
   "cell_type": "code",
   "execution_count": 806,
   "metadata": {},
   "outputs": [
    {
     "data": {
      "image/png": "[encoded data removed]",
      "text/plain": [
       "<matplotlib.figure.Figure at 0x1c2615e320>"
      ]
     },
     "metadata": {},
     "output_type": "display_data"
    }
   ],
   "source": [
    "# Create new column of difference in mean years between 2009 and 1970\n",
    "df_school['Diff'] = df_school[\"2009\"] - df_school[\"1970\"]\n",
    "\n",
    "sns.violinplot(x='Diff', data=df_school)\n",
    "plt.xlabel('Increase in Female Schooling (Years) from 1970 to 2009');"
   ]
  },
  {
   "cell_type": "markdown",
   "metadata": {},
   "source": [
    "## 2. Female Literacy vs Mean Age at First Marriage\n",
    "This analysis uses simple linear regression to investigate any trends between female literacy and age at first marriage in a country. Intuitively, we except an increase in mean age at first marriage in countries where female literacy is higher. \n",
    "\n",
    "Ideally, we want to compare changes in the relationship over years but due to unavailability of clean data for marraige age, the regression analysis is done using data only for 2005. Prior to analyzing specific metrics of the linear model, it helps you visualize the data. "
   ]
  },
  {
   "cell_type": "code",
   "execution_count": 775,
   "metadata": {},
   "outputs": [
    {
     "data": {
      "image/png": "[encoded data removed]",
      "text/plain": [
       "<matplotlib.figure.Figure at 0x1c25482f60>"
      ]
     },
     "metadata": {},
     "output_type": "display_data"
    }
   ],
   "source": [
    "# Visualize marriage age vs years in school\n",
    "fig, ax = plt.subplots(figsize=(8,6))\n",
    "sns.regplot(x=df_2005[\"school_years\"], y=df_2005[\"marriage_age\"],ci=None, line_kws={\"color\":\"b\", \"lw\":2})\n",
    "\n",
    "# Plot elements\n",
    "plt.title('Female Age at First Marriage vs Years in School')\n",
    "plt.xlabel('Mean Years in School')\n",
    "plt.ylabel('Mean Age at First Marriage');"
   ]
  },
  {
   "cell_type": "markdown",
   "metadata": {},
   "source": [
    "As expected, there is a relationship between education level and age at first marriage for females. To further examine this relationship quantitatively, a linear regression model is fitted to the data below. "
   ]
  },
  {
   "cell_type": "code",
   "execution_count": 776,
   "metadata": {},
   "outputs": [
    {
     "name": "stdout",
     "output_type": "stream",
     "text": [
      "                            OLS Regression Results                            \n",
      "==============================================================================\n",
      "Dep. Variable:           marriage_age   R-squared:                       0.442\n",
      "Model:                            OLS   Adj. R-squared:                  0.438\n",
      "Method:                 Least Squares   F-statistic:                     117.3\n",
      "Date:                Sat, 21 Jul 2018   Prob (F-statistic):           1.69e-20\n",
      "Time:                        18:03:27   Log-Likelihood:                -358.55\n",
      "No. Observations:                 150   AIC:                             721.1\n",
      "Df Residuals:                     148   BIC:                             727.1\n",
      "Df Model:                           1                                         \n",
      "Covariance Type:            nonrobust                                         \n",
      "================================================================================\n",
      "                   coef    std err          t      P>|t|      [0.025      0.975]\n",
      "--------------------------------------------------------------------------------\n",
      "intercept       18.4580      0.560     32.975      0.000      17.352      19.564\n",
      "school_years     0.6557      0.061     10.833      0.000       0.536       0.775\n",
      "==============================================================================\n",
      "Omnibus:                        7.179   Durbin-Watson:                   1.982\n",
      "Prob(Omnibus):                  0.028   Jarque-Bera (JB):                7.409\n",
      "Skew:                           0.543   Prob(JB):                       0.0246\n",
      "Kurtosis:                       2.910   Cond. No.                         24.1\n",
      "==============================================================================\n",
      "\n",
      "Warnings:\n",
      "[1] Standard Errors assume that the covariance matrix of the errors is correctly specified.\n"
     ]
    }
   ],
   "source": [
    "import statsmodels.api as sm;\n",
    "\n",
    "# Add intercept and Fit linear model for school years\n",
    "df_2005['intercept'] = 1\n",
    "lm = sm.OLS(df_2005['marriage_age'], df_2005[['intercept', 'school_years']])\n",
    "results = lm.fit()\n",
    "print(results.summary())"
   ]
  },
  {
   "cell_type": "markdown",
   "metadata": {},
   "source": [
    "### Regression Interpretation\n",
    "The output above looks intimidating to anyone without any background in statistics and linear regression models. Let's break down the most important aspects for our analysis. \n",
    "\n",
    "* **R-Squared**: Most people even vaguely familiar with linear regression have heard about R-squared. The R-squared is always between 0 and 100% and is a measure of how close the data are to the fitted line. Contrary to how widespread R-squared is, it is not as useful in indicating whether a model is a good fit. Although a high R-squared value is desired, a low R-squared does not mean the model is useless. \n",
    "\n",
    "* **Regression Coefficients (`coef(β)` )**: The two regression coefficients are `intercept` and `school_years` where the `intercept` value is almost always useless due to statistical reasons not necessary to dive deep into here. The coefficient for `school_years` is **0.6557** which means that for every extra year of education a female receives, on *average* the age at first marriage increases by 0.6557 years. \n",
    "\n",
    "* **P-value (`P>|t|`)**: Assuming that the null hypothesis is true, which in this analysis implies that the coefficient for `school_years` is actually 0 instead of 0.6557, p-value is the probability of how likely it is that we observe an effect equal to or greater than the effect observed in the analysis. Hence, a lower p-value is better implying that it is less likely that the observed effect is possible even if the actual value is 0. Thus, the p-value for `school_years` is extremely close to 0% which means `school_years` is a significant predictor in this model.  \n",
    "\n",
    "* **Standard Error (`std err`)**: Standard error (S) is in the units of response variable (`marriage_age`) and is the average distance that the observed values fall from the regression line. In other words, it is a predictor of how wrong the regression model is on average. The value of S is 0.061 years which is a relatively low value for the purposes of our analysis as we're not interested in using the model for prediction purposes. \n",
    "\n",
    "There are many other parameters that can be analyzed for the model but the factors above are a solid starting point in interpreting the fit. "
   ]
  },
  {
   "cell_type": "markdown",
   "metadata": {},
   "source": [
    "### Female Literacy vs Marriage Age Conclusion\n",
    "The goal of our analysis is to analyze the general trend between the variables instead of using it for predictive purposes. Based on this purpose, the linear model does a satisfactory job in highlighting how the marriage age of females aorund the world increases as they acquire more education. \n",
    "\n",
    "Education allows women to gain greater autonomy over marital decisions and the next analysis tries to investigate this further and see whether female labor engagement is affected by literacy and autonomy in society. "
   ]
  },
  {
   "cell_type": "markdown",
   "metadata": {},
   "source": [
    "## 3. Effect of Female Literacy and Autonomy on Female Labor Engagement in Society \n",
    "We saw how female literacy is related to higher female age at first marriage. The next question is to investigate whether female literacy and autonomy (age at first marriage) affect female labor participation in society. \n",
    "\n",
    "\n",
    "1. What factors affect the female labor participation in society, specifically, to what extent does female literacy and age at marriage impact female engagement in labor force? "
   ]
  },
  {
   "cell_type": "code",
   "execution_count": 782,
   "metadata": {},
   "outputs": [
    {
     "name": "stdout",
     "output_type": "stream",
     "text": [
      "                             OLS Regression Results                            \n",
      "===============================================================================\n",
      "Dep. Variable:     labor_participation   R-squared:                       0.007\n",
      "Model:                             OLS   Adj. R-squared:                 -0.006\n",
      "Method:                  Least Squares   F-statistic:                    0.5240\n",
      "Date:                 Sat, 21 Jul 2018   Prob (F-statistic):              0.593\n",
      "Time:                         20:21:11   Log-Likelihood:                -628.89\n",
      "No. Observations:                  150   AIC:                             1264.\n",
      "Df Residuals:                      147   BIC:                             1273.\n",
      "Df Model:                            2                                         \n",
      "Covariance Type:             nonrobust                                         \n",
      "================================================================================\n",
      "                   coef    std err          t      P>|t|      [0.025      0.975]\n",
      "--------------------------------------------------------------------------------\n",
      "intercept       54.7728      9.839      5.567      0.000      35.329      74.217\n",
      "school_years     0.4158      0.493      0.843      0.400      -0.559       1.390\n",
      "marriage_age    -0.0637      0.500     -0.127      0.899      -1.052       0.925\n",
      "==============================================================================\n",
      "Omnibus:                        3.716   Durbin-Watson:                   1.637\n",
      "Prob(Omnibus):                  0.156   Jarque-Bera (JB):                3.423\n",
      "Skew:                          -0.368   Prob(JB):                        0.181\n",
      "Kurtosis:                       3.075   Cond. No.                         193.\n",
      "==============================================================================\n",
      "\n",
      "Warnings:\n",
      "[1] Standard Errors assume that the covariance matrix of the errors is correctly specified.\n"
     ]
    }
   ],
   "source": [
    "# Fit linear model \n",
    "lm = sm.OLS(df_2005['labor_participation'], df_2005[['intercept', 'school_years', 'marriage_age']])\n",
    "results = lm.fit()\n",
    "print(results.summary())"
   ]
  },
  {
   "cell_type": "markdown",
   "metadata": {},
   "source": [
    "### Regression Interpretation\n",
    "My intuition that the female labor participation increases as female education and autonomy in society increases is not supported by the linear model at all. A quick review of the model parameters highlights there is almost no correlation between labor participation and female education, marriage age. \n",
    "\n",
    "* **R-squared**: The R-squared value is 0.7% which suggests almost no correlation between the variables \n",
    "* **P-value**: The p-values for both predictors (`school_years, marriage_age`) is extremely high suggesting that the effects observed in our analysis have a probability of being due to chance. \n",
    "\n",
    "A scatterplot below of `school_years` versus `labor_participation` highlights the lacks of relationship and how some countries with extremely low education levels have some of the highest levels of female labor participation. "
   ]
  },
  {
   "cell_type": "code",
   "execution_count": 788,
   "metadata": {},
   "outputs": [
    {
     "data": {
      "image/png": "[encoded data removed]",
      "text/plain": [
       "<matplotlib.figure.Figure at 0x1c25a516d8>"
      ]
     },
     "metadata": {},
     "output_type": "display_data"
    }
   ],
   "source": [
    "fig, ax = plt.subplots(figsize=(8,6))\n",
    "sns.regplot(x=df_2005[\"school_years\"], y=df_2005[\"labor_participation\"],ci=None, line_kws={\"color\":\"b\", \"lw\":2})\n",
    "\n",
    "# Plot elements\n",
    "plt.title('Female Labor Participation vs Years in School')\n",
    "plt.xlabel('Mean Years in School')\n",
    "plt.ylabel('Female Labor Participation');"
   ]
  },
  {
   "cell_type": "markdown",
   "metadata": {},
   "source": [
    "## 4. Effect of Female Literacy and Autonomy in Society on Child Mortality Rates\n",
    "Research has shown how empowering women through education pays dividends by providing opportunities and choice to women and uplifts the health status of whole family. Our previous analysis showed how women's education is correlated with a higher age at marriage. \n",
    "\n",
    "Research has shown how females with higher education tend to have smaller families. The following studies on effects of gender inequality and female literacy on child mortality rates suggest we'd expect to see a decrease in mortality rates as women have greater education and autonomy in society. \n",
    "* [Association between gender inequality index and child mortality rates](https://www.ncbi.nlm.nih.gov/pmc/articles/PMC4353466/)\n",
    "* [The Impact of Female Literacy on Infant Mortality Rate in Indian States](https://www.alliedacademies.org/articles/the-impact-of-female-literacy-on-infant-mortality-rate-in-indian-states.pdf)"
   ]
  },
  {
   "cell_type": "markdown",
   "metadata": {},
   "source": [
    "### Choosing Predictors \n",
    "Both age at marriage and schooling years have been separately shown to be correlated with child mortality rates. \n",
    "\n",
    "With lack of research on effect of labor participation on child mortality rates, we look at a plot of `child_mortality` versus `labor_participation`. Based on the scatterplot below, no trend can be observed as child mortality is spread over all ranges of female labor participation. Hence, female labor participation in a society will not be included as a predictor in the multiple regression model. "
   ]
  },
  {
   "cell_type": "code",
   "execution_count": 796,
   "metadata": {},
   "outputs": [
    {
     "data": {
      "image/png": "[encoded data removed]",
      "text/plain": [
       "<matplotlib.figure.Figure at 0x1c2603b668>"
      ]
     },
     "metadata": {},
     "output_type": "display_data"
    }
   ],
   "source": [
    "fig, ax = plt.subplots(figsize=(8,6))\n",
    "sns.regplot(x=df_2005[\"labor_participation\"], y=df_2005[\"child_mortality\"],ci=None, line_kws={\"color\":\"b\", \"lw\":2})\n",
    "\n",
    "# Plot elements\n",
    "plt.title('Female Labor Participation vs Child Mortality Rates')\n",
    "plt.ylabel('Child Mortality Rate (per 1000 children)')\n",
    "plt.xlabel('Female Labor Participation(%)');"
   ]
  },
  {
   "cell_type": "code",
   "execution_count": 798,
   "metadata": {},
   "outputs": [
    {
     "name": "stdout",
     "output_type": "stream",
     "text": [
      "                            OLS Regression Results                            \n",
      "==============================================================================\n",
      "Dep. Variable:        child_mortality   R-squared:                       0.671\n",
      "Model:                            OLS   Adj. R-squared:                  0.666\n",
      "Method:                 Least Squares   F-statistic:                     149.8\n",
      "Date:                Sun, 22 Jul 2018   Prob (F-statistic):           3.34e-36\n",
      "Time:                        13:36:58   Log-Likelihood:                -711.50\n",
      "No. Observations:                 150   AIC:                             1429.\n",
      "Df Residuals:                     147   BIC:                             1438.\n",
      "Df Model:                           2                                         \n",
      "Covariance Type:            nonrobust                                         \n",
      "================================================================================\n",
      "                   coef    std err          t      P>|t|      [0.025      0.975]\n",
      "--------------------------------------------------------------------------------\n",
      "intercept      193.3387     17.065     11.329      0.000     159.614     227.063\n",
      "school_years    -8.9704      0.855    -10.489      0.000     -10.660      -7.280\n",
      "marriage_age    -2.8708      0.867     -3.310      0.001      -4.585      -1.157\n",
      "==============================================================================\n",
      "Omnibus:                       12.186   Durbin-Watson:                   1.997\n",
      "Prob(Omnibus):                  0.002   Jarque-Bera (JB):               13.027\n",
      "Skew:                           0.615   Prob(JB):                      0.00148\n",
      "Kurtosis:                       3.755   Cond. No.                         193.\n",
      "==============================================================================\n",
      "\n",
      "Warnings:\n",
      "[1] Standard Errors assume that the covariance matrix of the errors is correctly specified.\n"
     ]
    }
   ],
   "source": [
    "# Fit linear model\n",
    "lm = sm.OLS(df_2005['child_mortality'], df_2005[['intercept', 'school_years', 'marriage_age']])\n",
    "results = lm.fit()\n",
    "print(results.summary())"
   ]
  },
  {
   "cell_type": "markdown",
   "metadata": {},
   "source": [
    "### Regression Results \n",
    "Child mortality rates are negatively associated with marriage age (`β = -2.8708; 95% CI [-4.585, -1.157]`) and schooling years (`β = -10.489; 95% CI [-10.660, -7.280]`). \n",
    "\n",
    "> For those unfamiliar with what `95% CI`:  The 95% Confidence Interval means that if we were to redo this study with different data samples many more times, the **true** value of the coefficient (which is unknown and we'll probably never know) would lie in confidence intervals in 95% of the studies. Example: If we repeat this study 20 times, the true value of coefficient `marriage_age` will lie in confidence intervals of 19 studies. \n",
    "\n",
    "Schooling years has a greater impact on the child mortality rates with a decrease of 10.489 child deaths on *average* for every extra year of female schooling. The age of marriage also lowers the mortality rates on average by 2.87 fewer deaths. "
   ]
  },
  {
   "cell_type": "markdown",
   "metadata": {},
   "source": [
    "### Model checking \n",
    "Multicollinearity is an issue that occurs when independent variables in a regression model are correlated. This correlation is a problem because independent variables should be *independent*. If the degree of correlation between variables is high enough, it can cause problems when you fit the model and interpret the results.\n",
    "\n",
    "Based on our previous analysis of marriage age and schooling years, we know that the two predictors are correlated to an extent. Hence, we perform a test to identify the strength of that correlation and whether the model requires changes to mitigate multicollinearity effects. \n",
    "\n",
    "Variance inflation factor (VIF) is a test that identifies correlation between independent variables and the strenght of that correlation. VIFs start at 1 and have no upper limit. A value of 1 indicates that there is no correlation between this independent variable and any others. VIFs between 1 and 5 suggest that there is a moderate correlation, but it is not severe enough to warrant corrective measures. VIFs greater than 5 represent critical levels of multicollinearity where the coefficients are poorly estimated, and the p-values are questionable.\n",
    "\n",
    "The following cells calculate the VIF for variables used in the previous model. "
   ]
  },
  {
   "cell_type": "code",
   "execution_count": 799,
   "metadata": {},
   "outputs": [],
   "source": [
    "from patsy import dmatrices\n",
    "import statsmodels.api as sm\n",
    "from statsmodels.stats.outliers_influence import variance_inflation_factor\n",
    "# get y and X dataframes based on regression:\n",
    "y, X = dmatrices('child_mortality ~ school_years + marriage_age', df_2005, return_type='dataframe')"
   ]
  },
  {
   "cell_type": "code",
   "execution_count": 802,
   "metadata": {},
   "outputs": [
    {
     "data": {
      "text/html": [
       "<div>\n",
       "<style scoped>\n",
       "    .dataframe tbody tr th:only-of-type {\n",
       "        vertical-align: middle;\n",
       "    }\n",
       "\n",
       "    .dataframe tbody tr th {\n",
       "        vertical-align: top;\n",
       "    }\n",
       "\n",
       "    .dataframe thead th {\n",
       "        text-align: right;\n",
       "    }\n",
       "</style>\n",
       "<table border=\"1\" class=\"dataframe\">\n",
       "  <thead>\n",
       "    <tr style=\"text-align: right;\">\n",
       "      <th></th>\n",
       "      <th>VIF Factor</th>\n",
       "      <th>features</th>\n",
       "    </tr>\n",
       "  </thead>\n",
       "  <tbody>\n",
       "    <tr>\n",
       "      <th>0</th>\n",
       "      <td>55.5</td>\n",
       "      <td>Intercept</td>\n",
       "    </tr>\n",
       "    <tr>\n",
       "      <th>1</th>\n",
       "      <td>1.8</td>\n",
       "      <td>school_years</td>\n",
       "    </tr>\n",
       "    <tr>\n",
       "      <th>2</th>\n",
       "      <td>1.8</td>\n",
       "      <td>marriage_age</td>\n",
       "    </tr>\n",
       "  </tbody>\n",
       "</table>\n",
       "</div>"
      ],
      "text/plain": [
       "   VIF Factor      features\n",
       "0        55.5     Intercept\n",
       "1         1.8  school_years\n",
       "2         1.8  marriage_age"
      ]
     },
     "execution_count": 802,
     "metadata": {},
     "output_type": "execute_result"
    }
   ],
   "source": [
    "# For each X, calculate VIF and save in dataframe\n",
    "vif = pd.DataFrame()\n",
    "vif[\"VIF Factor\"] = [variance_inflation_factor(X.values, i) for i in range(X.shape[1])]\n",
    "vif[\"features\"] = X.columns\n",
    "\n",
    "# Print VIF \n",
    "vif.round(1)"
   ]
  },
  {
   "cell_type": "markdown",
   "metadata": {},
   "source": [
    "A value of 1.8 suggests that the extent of correlation between the predictors is not severe enough to warrant corrective measures. "
   ]
  },
  {
   "cell_type": "markdown",
   "metadata": {},
   "source": []
  },
  {
   "cell_type": "markdown",
   "metadata": {},
   "source": [
    "<a id='conclusions'></a>\n",
    "## Conclusions\n",
    "\n",
    "The different analyses performed provide the following insights: \n",
    "* The level of female education has improved all around the world between 1970 and 2005 with an average increase of 4 to 6 years of additional education in most countries. \n",
    "* Marriage age and female literacy are associated with an average increase of `0.6557 years (95% CI: [0.536, 0.775])` in age at first marriage for every extra year of education. \n",
    "* No corellations were observed between female literacy and autonomy on the labor participation of females in a society. \n",
    "\n",
    "### Limitations \n",
    "* The results of regression analysis are geared towards understanding the associations between the predictors and not to be used to accurate predictive purposes. \n",
    "* We cannot state that female autonomy and literacy **cause** lower child mortality rates as the data is obtained from observational studies. There are a multitude of factors that affect child mortality rates and the factors change depending on the region of the world and its social and economic norms. \n",
    "\n",
    "**We have observed statistically significant associations between female literacy, autonomy and child mortality rates. This suggests that initiatives to curtail child mortality rates should extent beyond providing better medical services and focus on prioritizing women's rights and autonomy in societies. Greater education for females provides greater autonomy over their decisions and focusing on social well being of females may augment the survival of children.**"
   ]
  },
  {
   "cell_type": "code",
   "execution_count": null,
   "metadata": {},
   "outputs": [],
   "source": []
  }
 ],
 "metadata": {
  "kernelspec": {
   "display_name": "Python [default]",
   "language": "python",
   "name": "python3"
  },
  "language_info": {
   "codemirror_mode": {
    "name": "ipython",
    "version": 3
   },
   "file_extension": ".py",
   "mimetype": "text/x-python",
   "name": "python",
   "nbconvert_exporter": "python",
   "pygments_lexer": "ipython3",
   "version": "3.6.4"
  }
 },
 "nbformat": 4,
 "nbformat_minor": 2
}
